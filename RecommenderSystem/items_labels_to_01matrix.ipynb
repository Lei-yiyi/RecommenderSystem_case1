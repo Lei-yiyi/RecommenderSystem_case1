{
 "cells": [
  {
   "cell_type": "code",
   "execution_count": 75,
   "metadata": {},
   "outputs": [],
   "source": [
    "# 代码说明：根据\"data/备选推荐节目集及所属类型.xlsx\"生成\"data/备选推荐节目集及所属类型01矩阵.xlsx\""
   ]
  },
  {
   "cell_type": "code",
   "execution_count": 35,
   "metadata": {},
   "outputs": [],
   "source": [
    "import pandas as pd\n",
    "import numpy as np"
   ]
  },
  {
   "cell_type": "code",
   "execution_count": 49,
   "metadata": {},
   "outputs": [
    {
     "data": {
      "text/html": [
       "<div>\n",
       "<style scoped>\n",
       "    .dataframe tbody tr th:only-of-type {\n",
       "        vertical-align: middle;\n",
       "    }\n",
       "\n",
       "    .dataframe tbody tr th {\n",
       "        vertical-align: top;\n",
       "    }\n",
       "\n",
       "    .dataframe thead th {\n",
       "        text-align: right;\n",
       "    }\n",
       "</style>\n",
       "<table border=\"1\" class=\"dataframe\">\n",
       "  <thead>\n",
       "    <tr style=\"text-align: right;\">\n",
       "      <th></th>\n",
       "      <th>节目名</th>\n",
       "      <th>类型</th>\n",
       "    </tr>\n",
       "  </thead>\n",
       "  <tbody>\n",
       "    <tr>\n",
       "      <th>0</th>\n",
       "      <td>绑架者</td>\n",
       "      <td>动作</td>\n",
       "    </tr>\n",
       "    <tr>\n",
       "      <th>1</th>\n",
       "      <td>10月29日探索·发现</td>\n",
       "      <td>古装 生活</td>\n",
       "    </tr>\n",
       "    <tr>\n",
       "      <th>2</th>\n",
       "      <td>银河护卫队</td>\n",
       "      <td>科幻 冒险 动作</td>\n",
       "    </tr>\n",
       "    <tr>\n",
       "      <th>3</th>\n",
       "      <td>成长边缘</td>\n",
       "      <td>剧情 搞笑</td>\n",
       "    </tr>\n",
       "    <tr>\n",
       "      <th>4</th>\n",
       "      <td>10月23日天下足球</td>\n",
       "      <td>体育</td>\n",
       "    </tr>\n",
       "  </tbody>\n",
       "</table>\n",
       "</div>"
      ],
      "text/plain": [
       "           节目名        类型\n",
       "0          绑架者        动作\n",
       "1  10月29日探索·发现     古装 生活\n",
       "2        银河护卫队  科幻 冒险 动作\n",
       "3         成长边缘     剧情 搞笑\n",
       "4   10月23日天下足球        体育"
      ]
     },
     "execution_count": 49,
     "metadata": {},
     "output_type": "execute_result"
    }
   ],
   "source": [
    "# 读取 excel 为 DataFrame\n",
    "df = pd.read_excel('../data/备选推荐节目集及所属类型.xlsx')\n",
    "df[:5]"
   ]
  },
  {
   "cell_type": "code",
   "execution_count": 50,
   "metadata": {},
   "outputs": [],
   "source": [
    "(m, n) = df.shape  # (219, 2)"
   ]
  },
  {
   "cell_type": "code",
   "execution_count": 60,
   "metadata": {},
   "outputs": [
    {
     "data": {
      "text/plain": [
       "array([['绑架者', '动作'],\n",
       "       ['10月29日探索·发现', '古装 生活'],\n",
       "       ['银河护卫队', '科幻 冒险 动作'],\n",
       "       ['成长边缘', '剧情 搞笑'],\n",
       "       ['10月23日天下足球', '体育']], dtype=object)"
      ]
     },
     "execution_count": 60,
     "metadata": {},
     "output_type": "execute_result"
    }
   ],
   "source": [
    "# pandas.core.frame.DataFrame 转为 numpy.ndarray\n",
    "data_array = np.array(df.iloc[0:m+1,:])\n",
    "data_array[:5]"
   ]
  },
  {
   "cell_type": "code",
   "execution_count": 51,
   "metadata": {},
   "outputs": [],
   "source": [
    "# 按指定顺序排列的所有标签（类型）\n",
    "all_labels = ['教育', '戏曲', '悬疑', '科幻', '惊悚', '动作', '资讯', '武侠', '剧情', '警匪', '生活', '军事', '言情', '体育', '冒险', '纪实', '少儿教育', '少儿', '综艺', '古装', '搞笑', '广告']\n",
    "labels_num = len(all_labels)"
   ]
  },
  {
   "cell_type": "code",
   "execution_count": 52,
   "metadata": {},
   "outputs": [
    {
     "data": {
      "text/plain": [
       "array(['绑架者', '10月29日探索·发现', '银河护卫队', '成长边缘', '10月23日天下足球'], dtype=object)"
      ]
     },
     "execution_count": 52,
     "metadata": {},
     "output_type": "execute_result"
    }
   ],
   "source": [
    "# 按顺序提取所有节目的名称，pandas.core.frame.DataFrame 转为 numpy.ndarray\n",
    "all_items = np.array(df.iloc[:m+1, 0])\n",
    "all_items[:5]"
   ]
  },
  {
   "cell_type": "code",
   "execution_count": 73,
   "metadata": {},
   "outputs": [
    {
     "data": {
      "text/html": [
       "<div>\n",
       "<style scoped>\n",
       "    .dataframe tbody tr th:only-of-type {\n",
       "        vertical-align: middle;\n",
       "    }\n",
       "\n",
       "    .dataframe tbody tr th {\n",
       "        vertical-align: top;\n",
       "    }\n",
       "\n",
       "    .dataframe thead th {\n",
       "        text-align: right;\n",
       "    }\n",
       "</style>\n",
       "<table border=\"1\" class=\"dataframe\">\n",
       "  <thead>\n",
       "    <tr style=\"text-align: right;\">\n",
       "      <th></th>\n",
       "      <th>教育</th>\n",
       "      <th>戏曲</th>\n",
       "      <th>悬疑</th>\n",
       "      <th>科幻</th>\n",
       "      <th>惊悚</th>\n",
       "      <th>动作</th>\n",
       "      <th>资讯</th>\n",
       "      <th>武侠</th>\n",
       "      <th>剧情</th>\n",
       "      <th>警匪</th>\n",
       "      <th>...</th>\n",
       "      <th>言情</th>\n",
       "      <th>体育</th>\n",
       "      <th>冒险</th>\n",
       "      <th>纪实</th>\n",
       "      <th>少儿教育</th>\n",
       "      <th>少儿</th>\n",
       "      <th>综艺</th>\n",
       "      <th>古装</th>\n",
       "      <th>搞笑</th>\n",
       "      <th>广告</th>\n",
       "    </tr>\n",
       "  </thead>\n",
       "  <tbody>\n",
       "    <tr>\n",
       "      <th>绑架者</th>\n",
       "      <td>0</td>\n",
       "      <td>0</td>\n",
       "      <td>0</td>\n",
       "      <td>0</td>\n",
       "      <td>0</td>\n",
       "      <td>1</td>\n",
       "      <td>0</td>\n",
       "      <td>0</td>\n",
       "      <td>0</td>\n",
       "      <td>0</td>\n",
       "      <td>...</td>\n",
       "      <td>0</td>\n",
       "      <td>0</td>\n",
       "      <td>0</td>\n",
       "      <td>0</td>\n",
       "      <td>0</td>\n",
       "      <td>0</td>\n",
       "      <td>0</td>\n",
       "      <td>0</td>\n",
       "      <td>0</td>\n",
       "      <td>0</td>\n",
       "    </tr>\n",
       "    <tr>\n",
       "      <th>10月29日探索·发现</th>\n",
       "      <td>0</td>\n",
       "      <td>0</td>\n",
       "      <td>0</td>\n",
       "      <td>0</td>\n",
       "      <td>0</td>\n",
       "      <td>0</td>\n",
       "      <td>0</td>\n",
       "      <td>0</td>\n",
       "      <td>0</td>\n",
       "      <td>0</td>\n",
       "      <td>...</td>\n",
       "      <td>0</td>\n",
       "      <td>0</td>\n",
       "      <td>0</td>\n",
       "      <td>0</td>\n",
       "      <td>0</td>\n",
       "      <td>0</td>\n",
       "      <td>0</td>\n",
       "      <td>1</td>\n",
       "      <td>0</td>\n",
       "      <td>0</td>\n",
       "    </tr>\n",
       "    <tr>\n",
       "      <th>银河护卫队</th>\n",
       "      <td>0</td>\n",
       "      <td>0</td>\n",
       "      <td>0</td>\n",
       "      <td>1</td>\n",
       "      <td>0</td>\n",
       "      <td>1</td>\n",
       "      <td>0</td>\n",
       "      <td>0</td>\n",
       "      <td>0</td>\n",
       "      <td>0</td>\n",
       "      <td>...</td>\n",
       "      <td>0</td>\n",
       "      <td>0</td>\n",
       "      <td>1</td>\n",
       "      <td>0</td>\n",
       "      <td>0</td>\n",
       "      <td>0</td>\n",
       "      <td>0</td>\n",
       "      <td>0</td>\n",
       "      <td>0</td>\n",
       "      <td>0</td>\n",
       "    </tr>\n",
       "    <tr>\n",
       "      <th>成长边缘</th>\n",
       "      <td>0</td>\n",
       "      <td>0</td>\n",
       "      <td>0</td>\n",
       "      <td>0</td>\n",
       "      <td>0</td>\n",
       "      <td>0</td>\n",
       "      <td>0</td>\n",
       "      <td>0</td>\n",
       "      <td>1</td>\n",
       "      <td>0</td>\n",
       "      <td>...</td>\n",
       "      <td>0</td>\n",
       "      <td>0</td>\n",
       "      <td>0</td>\n",
       "      <td>0</td>\n",
       "      <td>0</td>\n",
       "      <td>0</td>\n",
       "      <td>0</td>\n",
       "      <td>0</td>\n",
       "      <td>1</td>\n",
       "      <td>0</td>\n",
       "    </tr>\n",
       "    <tr>\n",
       "      <th>10月23日天下足球</th>\n",
       "      <td>0</td>\n",
       "      <td>0</td>\n",
       "      <td>0</td>\n",
       "      <td>0</td>\n",
       "      <td>0</td>\n",
       "      <td>0</td>\n",
       "      <td>0</td>\n",
       "      <td>0</td>\n",
       "      <td>0</td>\n",
       "      <td>0</td>\n",
       "      <td>...</td>\n",
       "      <td>0</td>\n",
       "      <td>1</td>\n",
       "      <td>0</td>\n",
       "      <td>0</td>\n",
       "      <td>0</td>\n",
       "      <td>0</td>\n",
       "      <td>0</td>\n",
       "      <td>0</td>\n",
       "      <td>0</td>\n",
       "      <td>0</td>\n",
       "    </tr>\n",
       "  </tbody>\n",
       "</table>\n",
       "<p>5 rows × 22 columns</p>\n",
       "</div>"
      ],
      "text/plain": [
       "             教育  戏曲  悬疑  科幻  惊悚  动作  资讯  武侠  剧情  警匪  ...  言情  体育  冒险  纪实  \\\n",
       "绑架者           0   0   0   0   0   1   0   0   0   0  ...   0   0   0   0   \n",
       "10月29日探索·发现   0   0   0   0   0   0   0   0   0   0  ...   0   0   0   0   \n",
       "银河护卫队         0   0   0   1   0   1   0   0   0   0  ...   0   0   1   0   \n",
       "成长边缘          0   0   0   0   0   0   0   0   1   0  ...   0   0   0   0   \n",
       "10月23日天下足球    0   0   0   0   0   0   0   0   0   0  ...   0   1   0   0   \n",
       "\n",
       "             少儿教育  少儿  综艺  古装  搞笑  广告  \n",
       "绑架者             0   0   0   0   0   0  \n",
       "10月29日探索·发现     0   0   0   1   0   0  \n",
       "银河护卫队           0   0   0   0   0   0  \n",
       "成长边缘            0   0   0   0   1   0  \n",
       "10月23日天下足球      0   0   0   0   0   0  \n",
       "\n",
       "[5 rows x 22 columns]"
      ]
     },
     "execution_count": 73,
     "metadata": {},
     "output_type": "execute_result"
    }
   ],
   "source": [
    "# 创建一个01矩阵，0表示该节目不属于该类型，1表示该节目属于该类型\n",
    "data_to_be_written = []\n",
    "\n",
    "for i in range(len(all_items)):\n",
    "\n",
    "    # 每个节目的01行向量\n",
    "    vector = [0] * labels_num\n",
    "    labels_names = data_array[i][1].split(\" \")\n",
    "\n",
    "    for j in range(len(labels_names)):\n",
    "        location = all_labels.index(labels_names[j])\n",
    "        vector[location] = 1\n",
    "\n",
    "    data_to_be_written.append(vector)\n",
    "\n",
    "df_ = pd.DataFrame(data_to_be_written, index=all_items, columns=all_labels)\n",
    "df_[:5]"
   ]
  },
  {
   "cell_type": "code",
   "execution_count": 74,
   "metadata": {},
   "outputs": [],
   "source": [
    "# DataFrame 写入 excel（PS: 记得在生成的“备选推荐节目集及所属类型01矩阵表”中节目名那一列的首个空白的单元格中打上“节目名”）\n",
    "df_.to_excel(\"../data/备选推荐节目集及所属类型01矩阵.xlsx\")"
   ]
  }
 ],
 "metadata": {
  "kernelspec": {
   "display_name": "Python 3",
   "language": "python",
   "name": "python3"
  },
  "language_info": {
   "codemirror_mode": {
    "name": "ipython",
    "version": 3
   },
   "file_extension": ".py",
   "mimetype": "text/x-python",
   "name": "python",
   "nbconvert_exporter": "python",
   "pygments_lexer": "ipython3",
   "version": "3.7.6"
  }
 },
 "nbformat": 4,
 "nbformat_minor": 4
}
